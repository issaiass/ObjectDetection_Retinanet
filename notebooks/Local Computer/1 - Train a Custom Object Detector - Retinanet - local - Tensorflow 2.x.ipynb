{
 "cells": [
  {
   "cell_type": "markdown",
   "metadata": {},
   "source": [
    "# Develop a Custom Object Detector - Mask-RCNN Version"
   ]
  },
  {
   "cell_type": "markdown",
   "metadata": {},
   "source": [
    "###### Let's Upgrade Anaconda if you have it installed"
   ]
  },
  {
   "cell_type": "code",
   "execution_count": 1,
   "metadata": {},
   "outputs": [],
   "source": [
    "# Enable to update/upgrade anaconda\n",
    "#!conda update conda\n",
    "#!conda upgrade anaconda"
   ]
  },
  {
   "cell_type": "markdown",
   "metadata": {},
   "source": [
    "###### Now install the required packaget to continue the flow"
   ]
  },
  {
   "cell_type": "code",
   "execution_count": 2,
   "metadata": {},
   "outputs": [],
   "source": [
    "# Enable if you did not installed the packages\n",
    "#!pip install -r requirements.txt"
   ]
  },
  {
   "cell_type": "markdown",
   "metadata": {},
   "source": [
    "###### Next we will be doing some neccesary imports"
   ]
  },
  {
   "cell_type": "code",
   "execution_count": 42,
   "metadata": {},
   "outputs": [],
   "source": [
    "import os\n",
    "import fnmatch\n",
    "import pandas as pd\n",
    "import numpy as np\n",
    "\n",
    "from xml.etree import ElementTree as et\n",
    "from urllib.request import urlretrieve"
   ]
  },
  {
   "cell_type": "code",
   "execution_count": 4,
   "metadata": {},
   "outputs": [],
   "source": [
    "xml_train_path  = os.path.join('Dataset','Train')\n",
    "xml_train_files = fnmatch.filter(os.listdir(xml_train_path), \"*.xml\")\n",
    "xml_train_files_full_path = [os.path.join(xml_train_path, p) for p in xml_train_files]\n",
    "\n",
    "xml_test_path   = os.path.join('Dataset', 'Test')\n",
    "xml_test_files  = fnmatch.filter(os.listdir(xml_test_path), \"*.xml\")\n",
    "xml_test_files_full_path = [os.path.join(xml_test_path, p) for p in xml_test_files]"
   ]
  },
  {
   "cell_type": "markdown",
   "metadata": {},
   "source": [
    "###### see a dataset xml file path"
   ]
  },
  {
   "cell_type": "code",
   "execution_count": 5,
   "metadata": {
    "scrolled": true
   },
   "outputs": [
    {
     "data": {
      "text/plain": [
       "['Dataset\\\\Test\\\\0710_nc_red_fox_jpg.xml',\n",
       " 'Dataset\\\\Test\\\\0_1024px-Black_fox.xml',\n",
       " 'Dataset\\\\Test\\\\0_badger1_result.xml',\n",
       " 'Dataset\\\\Test\\\\0_Eurasian-badger-Meles-meles-emerging-from-sett-England.xml',\n",
       " 'Dataset\\\\Test\\\\1 (1).xml']"
      ]
     },
     "execution_count": 5,
     "metadata": {},
     "output_type": "execute_result"
    }
   ],
   "source": [
    "xml_test_files_full_path[:5]"
   ]
  },
  {
   "cell_type": "code",
   "execution_count": 6,
   "metadata": {},
   "outputs": [
    {
     "data": {
      "text/plain": [
       "['Dataset\\\\Train\\\\asian-badger.xml',\n",
       " 'Dataset\\\\Train\\\\baby-badger-drinking-figurine.xml',\n",
       " 'Dataset\\\\Train\\\\baby-fox.xml',\n",
       " 'Dataset\\\\Train\\\\badger (1).xml',\n",
       " 'Dataset\\\\Train\\\\badger (10).xml']"
      ]
     },
     "execution_count": 6,
     "metadata": {},
     "output_type": "execute_result"
    }
   ],
   "source": [
    "xml_train_files_full_path[:5]"
   ]
  },
  {
   "cell_type": "markdown",
   "metadata": {},
   "source": [
    "###### see how many images are in the train and test"
   ]
  },
  {
   "cell_type": "code",
   "execution_count": 7,
   "metadata": {},
   "outputs": [
    {
     "name": "stdout",
     "output_type": "stream",
     "text": [
      "There are 236 images for training.\n",
      "Thera are 60 images for validation.\n"
     ]
    }
   ],
   "source": [
    "ntrain = len(xml_train_files)\n",
    "ntest  = len(xml_test_files)\n",
    "print(f'There are {ntrain} images for training.\\nThera are {ntest} images for validation.')"
   ]
  },
  {
   "cell_type": "markdown",
   "metadata": {},
   "source": [
    "###### test xml extraction for train and test data"
   ]
  },
  {
   "cell_type": "code",
   "execution_count": 8,
   "metadata": {},
   "outputs": [],
   "source": [
    "tree = et.parse(xml_train_files_full_path[0])\n",
    "root = tree.getroot()"
   ]
  },
  {
   "cell_type": "code",
   "execution_count": 9,
   "metadata": {},
   "outputs": [
    {
     "name": "stdout",
     "output_type": "stream",
     "text": [
      "<?xml version='1.0' encoding='utf8'?>\n",
      "<annotation>\n",
      "\t<folder>badger_resized</folder>\n",
      "\t<filename>asian-badger.jpg</filename>\n",
      "\t<path>Dataset\\Train\\asian-badger.jpg</path>\n",
      "\t<source>\n",
      "\t\t<database>Unknown</database>\n",
      "\t</source>\n",
      "\t<size>\n",
      "\t\t<width>720</width>\n",
      "\t\t<height>514</height>\n",
      "\t\t<depth>3</depth>\n",
      "\t</size>\n",
      "\t<segmented>0</segmented>\n",
      "\t<object>\n",
      "\t\t<name>badger</name>\n",
      "\t\t<pose>Unspecified</pose>\n",
      "\t\t<truncated>1</truncated>\n",
      "\t\t<difficult>0</difficult>\n",
      "\t\t<bndbox>\n",
      "\t\t\t<xmin>14</xmin>\n",
      "\t\t\t<ymin>1</ymin>\n",
      "\t\t\t<xmax>711</xmax>\n",
      "\t\t\t<ymax>450</ymax>\n",
      "\t\t</bndbox>\n",
      "\t</object>\n",
      "</annotation>\n"
     ]
    }
   ],
   "source": [
    "print(et.tostring(root, encoding='utf8').decode('utf8'))"
   ]
  },
  {
   "cell_type": "code",
   "execution_count": 10,
   "metadata": {},
   "outputs": [
    {
     "name": "stdout",
     "output_type": "stream",
     "text": [
      "asian-badger.jpg\n"
     ]
    }
   ],
   "source": [
    "for fname in root.iter('filename'):\n",
    "    print(fname.text)"
   ]
  },
  {
   "cell_type": "code",
   "execution_count": 11,
   "metadata": {},
   "outputs": [
    {
     "name": "stdout",
     "output_type": "stream",
     "text": [
      "Dataset\\Train\\asian-badger.jpg\n"
     ]
    }
   ],
   "source": [
    "for path in root.iter('path'):\n",
    "    print(path.text)"
   ]
  },
  {
   "cell_type": "code",
   "execution_count": 12,
   "metadata": {},
   "outputs": [
    {
     "name": "stdout",
     "output_type": "stream",
     "text": [
      "720 514\n"
     ]
    }
   ],
   "source": [
    "for s in root.iter('size'):\n",
    "    w = int(s.find('width').text)\n",
    "    h = int(s.find('height').text)\n",
    "    print(w, h)"
   ]
  },
  {
   "cell_type": "code",
   "execution_count": 13,
   "metadata": {},
   "outputs": [
    {
     "name": "stdout",
     "output_type": "stream",
     "text": [
      "14 1 711 450\n"
     ]
    }
   ],
   "source": [
    "for box in root.findall('.//bndbox'):\n",
    "    xmin = int(box.find('xmin').text)\n",
    "    ymin = int(box.find('ymin').text)\n",
    "    xmax = int(box.find('xmax').text)\n",
    "    ymax = int(box.find('ymax').text)\n",
    "    print(xmin, ymin, xmax, ymax)"
   ]
  },
  {
   "cell_type": "code",
   "execution_count": 14,
   "metadata": {},
   "outputs": [
    {
     "name": "stdout",
     "output_type": "stream",
     "text": [
      "badger\n"
     ]
    }
   ],
   "source": [
    "for class_ in root.findall('.//object'):\n",
    "    name = class_.find('name').text\n",
    "    print(name)"
   ]
  },
  {
   "cell_type": "markdown",
   "metadata": {},
   "source": [
    "###### treat xml data"
   ]
  },
  {
   "cell_type": "code",
   "execution_count": 15,
   "metadata": {
    "scrolled": false
   },
   "outputs": [],
   "source": [
    "# Accomodate the path\n",
    "for xmlpath in xml_train_files_full_path:\n",
    "    tree = et.parse(xmlpath)\n",
    "    root = tree.getroot()\n",
    "    for fname in root.iter('filename'):\n",
    "        name = fname.text\n",
    "    for path in root.iter('path'):\n",
    "        path.text = os.path.join(xml_train_path, name)\n",
    "    tree.write(xmlpath)"
   ]
  },
  {
   "cell_type": "code",
   "execution_count": 16,
   "metadata": {},
   "outputs": [],
   "source": [
    "# Accomodate the path\n",
    "for xmlpath in xml_test_files_full_path:\n",
    "    tree = et.parse(xmlpath)\n",
    "    root = tree.getroot()\n",
    "    for fname in root.iter('filename'):\n",
    "        name = fname.text\n",
    "    for path in root.iter('path'):\n",
    "        path.text = os.path.join(xml_test_path, name)\n",
    "    tree.write(xmlpath)"
   ]
  },
  {
   "cell_type": "code",
   "execution_count": 17,
   "metadata": {},
   "outputs": [
    {
     "name": "stdout",
     "output_type": "stream",
     "text": [
      "Dataset\\Test\\_fox_16x9.jpg\n"
     ]
    }
   ],
   "source": [
    "for path in root.iter('path'):\n",
    "    print(path.text)"
   ]
  },
  {
   "cell_type": "markdown",
   "metadata": {},
   "source": [
    "###### Make an array to feed later a dataframe"
   ]
  },
  {
   "cell_type": "code",
   "execution_count": 18,
   "metadata": {},
   "outputs": [],
   "source": [
    "values_train = []\n",
    "for xmlpath in xml_train_files_full_path:\n",
    "    tree = et.parse(xmlpath)\n",
    "    root = tree.getroot()\n",
    "    for path in root.iter('path'):\n",
    "        imagepath = path.text\n",
    "    for b in root.findall('.//bndbox'):\n",
    "        xmin = int(b.find('xmin').text)\n",
    "        ymin = int(b.find('ymin').text)\n",
    "        xmax = int(b.find('xmax').text)\n",
    "        ymax = int(b.find('ymax').text)\n",
    "    for class_ in root.findall('.//object'):\n",
    "        class_name = class_.find('name').text\n",
    "    values_train.append([imagepath, xmin, ymin, xmax, ymax, class_name])"
   ]
  },
  {
   "cell_type": "code",
   "execution_count": 19,
   "metadata": {},
   "outputs": [
    {
     "data": {
      "text/plain": [
       "(['Dataset\\\\Train\\\\asian-badger.jpg', 14, 1, 711, 450, 'badger'],\n",
       " ['Dataset\\\\Train\\\\baby-badger-drinking-figurine.jpg',\n",
       "  16,\n",
       "  72,\n",
       "  720,\n",
       "  436,\n",
       "  'badger'],\n",
       " ['Dataset\\\\Train\\\\baby-fox.jpg', 187, 76, 642, 425, 'fox'],\n",
       " ['Dataset\\\\Train\\\\badger (1).jpg', 7, 30, 628, 485, 'badger'],\n",
       " ['Dataset\\\\Train\\\\badger (10).jpg', 63, 22, 720, 478, 'badger'])"
      ]
     },
     "execution_count": 19,
     "metadata": {},
     "output_type": "execute_result"
    }
   ],
   "source": [
    "values_train[0], values_train[1], values_train[2], values_train[3], values_train[4]"
   ]
  },
  {
   "cell_type": "code",
   "execution_count": 20,
   "metadata": {},
   "outputs": [],
   "source": [
    "values_test = []\n",
    "for xmlpath in xml_test_files_full_path:\n",
    "    tree = et.parse(xmlpath)\n",
    "    root = tree.getroot()\n",
    "    for path in root.iter('path'):\n",
    "        imagepath = path.text\n",
    "    for b in root.findall('.//bndbox'):\n",
    "        xmin = int(b.find('xmin').text)\n",
    "        ymin = int(b.find('ymin').text)\n",
    "        xmax = int(b.find('xmax').text)\n",
    "        ymax = int(b.find('ymax').text)\n",
    "    for class_ in root.findall('.//object'):\n",
    "        class_name = class_.find('name').text\n",
    "    values_test.append([imagepath, xmin, ymin, xmax, ymax, class_name])"
   ]
  },
  {
   "cell_type": "code",
   "execution_count": 21,
   "metadata": {},
   "outputs": [
    {
     "data": {
      "text/plain": [
       "(['Dataset\\\\Test\\\\0710_nc_red_fox_jpg.jpg', 9, 59, 646, 374, 'fox'],\n",
       " ['Dataset\\\\Test\\\\0_1024px-Black_fox.jpg', 31, 52, 666, 423, 'fox'],\n",
       " ['Dataset\\\\Test\\\\0_badger1_result.jpg', 42, 100, 582, 456, 'badger'],\n",
       " ['Dataset\\\\Test\\\\0_Eurasian-badger-Meles-meles-emerging-from-sett-England.jpg',\n",
       "  274,\n",
       "  119,\n",
       "  602,\n",
       "  508,\n",
       "  'badger'],\n",
       " ['Dataset\\\\Test\\\\1 (1).jpg', 236, 6, 658, 261, 'badger'])"
      ]
     },
     "execution_count": 21,
     "metadata": {},
     "output_type": "execute_result"
    }
   ],
   "source": [
    "values_test[0], values_test[1], values_test[2], values_test[3], values_test[4]"
   ]
  },
  {
   "cell_type": "markdown",
   "metadata": {},
   "source": [
    "###### make dataframes and write to csv"
   ]
  },
  {
   "cell_type": "code",
   "execution_count": 22,
   "metadata": {},
   "outputs": [
    {
     "data": {
      "text/html": [
       "<div>\n",
       "<style scoped>\n",
       "    .dataframe tbody tr th:only-of-type {\n",
       "        vertical-align: middle;\n",
       "    }\n",
       "\n",
       "    .dataframe tbody tr th {\n",
       "        vertical-align: top;\n",
       "    }\n",
       "\n",
       "    .dataframe thead th {\n",
       "        text-align: right;\n",
       "    }\n",
       "</style>\n",
       "<table border=\"1\" class=\"dataframe\">\n",
       "  <thead>\n",
       "    <tr style=\"text-align: right;\">\n",
       "      <th></th>\n",
       "      <th>0</th>\n",
       "      <th>1</th>\n",
       "      <th>2</th>\n",
       "      <th>3</th>\n",
       "      <th>4</th>\n",
       "      <th>5</th>\n",
       "    </tr>\n",
       "  </thead>\n",
       "  <tbody>\n",
       "    <tr>\n",
       "      <th>0</th>\n",
       "      <td>Dataset\\Train\\asian-badger.jpg</td>\n",
       "      <td>14</td>\n",
       "      <td>1</td>\n",
       "      <td>711</td>\n",
       "      <td>450</td>\n",
       "      <td>badger</td>\n",
       "    </tr>\n",
       "    <tr>\n",
       "      <th>1</th>\n",
       "      <td>Dataset\\Train\\baby-badger-drinking-figurine.jpg</td>\n",
       "      <td>16</td>\n",
       "      <td>72</td>\n",
       "      <td>720</td>\n",
       "      <td>436</td>\n",
       "      <td>badger</td>\n",
       "    </tr>\n",
       "    <tr>\n",
       "      <th>2</th>\n",
       "      <td>Dataset\\Train\\baby-fox.jpg</td>\n",
       "      <td>187</td>\n",
       "      <td>76</td>\n",
       "      <td>642</td>\n",
       "      <td>425</td>\n",
       "      <td>fox</td>\n",
       "    </tr>\n",
       "    <tr>\n",
       "      <th>3</th>\n",
       "      <td>Dataset\\Train\\badger (1).jpg</td>\n",
       "      <td>7</td>\n",
       "      <td>30</td>\n",
       "      <td>628</td>\n",
       "      <td>485</td>\n",
       "      <td>badger</td>\n",
       "    </tr>\n",
       "    <tr>\n",
       "      <th>4</th>\n",
       "      <td>Dataset\\Train\\badger (10).jpg</td>\n",
       "      <td>63</td>\n",
       "      <td>22</td>\n",
       "      <td>720</td>\n",
       "      <td>478</td>\n",
       "      <td>badger</td>\n",
       "    </tr>\n",
       "  </tbody>\n",
       "</table>\n",
       "</div>"
      ],
      "text/plain": [
       "                                                 0    1   2    3    4       5\n",
       "0                   Dataset\\Train\\asian-badger.jpg   14   1  711  450  badger\n",
       "1  Dataset\\Train\\baby-badger-drinking-figurine.jpg   16  72  720  436  badger\n",
       "2                       Dataset\\Train\\baby-fox.jpg  187  76  642  425     fox\n",
       "3                     Dataset\\Train\\badger (1).jpg    7  30  628  485  badger\n",
       "4                    Dataset\\Train\\badger (10).jpg   63  22  720  478  badger"
      ]
     },
     "execution_count": 22,
     "metadata": {},
     "output_type": "execute_result"
    }
   ],
   "source": [
    "train_df = pd.DataFrame(values_train)\n",
    "train_df.head()"
   ]
  },
  {
   "cell_type": "code",
   "execution_count": 23,
   "metadata": {},
   "outputs": [
    {
     "data": {
      "text/html": [
       "<div>\n",
       "<style scoped>\n",
       "    .dataframe tbody tr th:only-of-type {\n",
       "        vertical-align: middle;\n",
       "    }\n",
       "\n",
       "    .dataframe tbody tr th {\n",
       "        vertical-align: top;\n",
       "    }\n",
       "\n",
       "    .dataframe thead th {\n",
       "        text-align: right;\n",
       "    }\n",
       "</style>\n",
       "<table border=\"1\" class=\"dataframe\">\n",
       "  <thead>\n",
       "    <tr style=\"text-align: right;\">\n",
       "      <th></th>\n",
       "      <th>0</th>\n",
       "      <th>1</th>\n",
       "      <th>2</th>\n",
       "      <th>3</th>\n",
       "      <th>4</th>\n",
       "      <th>5</th>\n",
       "    </tr>\n",
       "  </thead>\n",
       "  <tbody>\n",
       "    <tr>\n",
       "      <th>0</th>\n",
       "      <td>Dataset\\Test\\0710_nc_red_fox_jpg.jpg</td>\n",
       "      <td>9</td>\n",
       "      <td>59</td>\n",
       "      <td>646</td>\n",
       "      <td>374</td>\n",
       "      <td>fox</td>\n",
       "    </tr>\n",
       "    <tr>\n",
       "      <th>1</th>\n",
       "      <td>Dataset\\Test\\0_1024px-Black_fox.jpg</td>\n",
       "      <td>31</td>\n",
       "      <td>52</td>\n",
       "      <td>666</td>\n",
       "      <td>423</td>\n",
       "      <td>fox</td>\n",
       "    </tr>\n",
       "    <tr>\n",
       "      <th>2</th>\n",
       "      <td>Dataset\\Test\\0_badger1_result.jpg</td>\n",
       "      <td>42</td>\n",
       "      <td>100</td>\n",
       "      <td>582</td>\n",
       "      <td>456</td>\n",
       "      <td>badger</td>\n",
       "    </tr>\n",
       "    <tr>\n",
       "      <th>3</th>\n",
       "      <td>Dataset\\Test\\0_Eurasian-badger-Meles-meles-eme...</td>\n",
       "      <td>274</td>\n",
       "      <td>119</td>\n",
       "      <td>602</td>\n",
       "      <td>508</td>\n",
       "      <td>badger</td>\n",
       "    </tr>\n",
       "    <tr>\n",
       "      <th>4</th>\n",
       "      <td>Dataset\\Test\\1 (1).jpg</td>\n",
       "      <td>236</td>\n",
       "      <td>6</td>\n",
       "      <td>658</td>\n",
       "      <td>261</td>\n",
       "      <td>badger</td>\n",
       "    </tr>\n",
       "  </tbody>\n",
       "</table>\n",
       "</div>"
      ],
      "text/plain": [
       "                                                   0    1    2    3    4  \\\n",
       "0               Dataset\\Test\\0710_nc_red_fox_jpg.jpg    9   59  646  374   \n",
       "1                Dataset\\Test\\0_1024px-Black_fox.jpg   31   52  666  423   \n",
       "2                  Dataset\\Test\\0_badger1_result.jpg   42  100  582  456   \n",
       "3  Dataset\\Test\\0_Eurasian-badger-Meles-meles-eme...  274  119  602  508   \n",
       "4                             Dataset\\Test\\1 (1).jpg  236    6  658  261   \n",
       "\n",
       "        5  \n",
       "0     fox  \n",
       "1     fox  \n",
       "2  badger  \n",
       "3  badger  \n",
       "4  badger  "
      ]
     },
     "execution_count": 23,
     "metadata": {},
     "output_type": "execute_result"
    }
   ],
   "source": [
    "test_df = pd.DataFrame(values_test)\n",
    "test_df.head()"
   ]
  },
  {
   "cell_type": "code",
   "execution_count": 24,
   "metadata": {},
   "outputs": [
    {
     "data": {
      "text/html": [
       "<div>\n",
       "<style scoped>\n",
       "    .dataframe tbody tr th:only-of-type {\n",
       "        vertical-align: middle;\n",
       "    }\n",
       "\n",
       "    .dataframe tbody tr th {\n",
       "        vertical-align: top;\n",
       "    }\n",
       "\n",
       "    .dataframe thead th {\n",
       "        text-align: right;\n",
       "    }\n",
       "</style>\n",
       "<table border=\"1\" class=\"dataframe\">\n",
       "  <thead>\n",
       "    <tr style=\"text-align: right;\">\n",
       "      <th></th>\n",
       "      <th>image_path</th>\n",
       "      <th>xmin</th>\n",
       "      <th>ymin</th>\n",
       "      <th>xmax</th>\n",
       "      <th>ymax</th>\n",
       "      <th>class_name</th>\n",
       "    </tr>\n",
       "  </thead>\n",
       "  <tbody>\n",
       "    <tr>\n",
       "      <th>0</th>\n",
       "      <td>Dataset\\Test\\0710_nc_red_fox_jpg.jpg</td>\n",
       "      <td>9</td>\n",
       "      <td>59</td>\n",
       "      <td>646</td>\n",
       "      <td>374</td>\n",
       "      <td>fox</td>\n",
       "    </tr>\n",
       "    <tr>\n",
       "      <th>1</th>\n",
       "      <td>Dataset\\Test\\0_1024px-Black_fox.jpg</td>\n",
       "      <td>31</td>\n",
       "      <td>52</td>\n",
       "      <td>666</td>\n",
       "      <td>423</td>\n",
       "      <td>fox</td>\n",
       "    </tr>\n",
       "    <tr>\n",
       "      <th>2</th>\n",
       "      <td>Dataset\\Test\\0_badger1_result.jpg</td>\n",
       "      <td>42</td>\n",
       "      <td>100</td>\n",
       "      <td>582</td>\n",
       "      <td>456</td>\n",
       "      <td>badger</td>\n",
       "    </tr>\n",
       "    <tr>\n",
       "      <th>3</th>\n",
       "      <td>Dataset\\Test\\0_Eurasian-badger-Meles-meles-eme...</td>\n",
       "      <td>274</td>\n",
       "      <td>119</td>\n",
       "      <td>602</td>\n",
       "      <td>508</td>\n",
       "      <td>badger</td>\n",
       "    </tr>\n",
       "    <tr>\n",
       "      <th>4</th>\n",
       "      <td>Dataset\\Test\\1 (1).jpg</td>\n",
       "      <td>236</td>\n",
       "      <td>6</td>\n",
       "      <td>658</td>\n",
       "      <td>261</td>\n",
       "      <td>badger</td>\n",
       "    </tr>\n",
       "  </tbody>\n",
       "</table>\n",
       "</div>"
      ],
      "text/plain": [
       "                                          image_path  xmin  ymin  xmax  ymax  \\\n",
       "0               Dataset\\Test\\0710_nc_red_fox_jpg.jpg     9    59   646   374   \n",
       "1                Dataset\\Test\\0_1024px-Black_fox.jpg    31    52   666   423   \n",
       "2                  Dataset\\Test\\0_badger1_result.jpg    42   100   582   456   \n",
       "3  Dataset\\Test\\0_Eurasian-badger-Meles-meles-eme...   274   119   602   508   \n",
       "4                             Dataset\\Test\\1 (1).jpg   236     6   658   261   \n",
       "\n",
       "  class_name  \n",
       "0        fox  \n",
       "1        fox  \n",
       "2     badger  \n",
       "3     badger  \n",
       "4     badger  "
      ]
     },
     "execution_count": 24,
     "metadata": {},
     "output_type": "execute_result"
    }
   ],
   "source": [
    "column_names = ['image_path','xmin','ymin', 'xmax','ymax','class_name']\n",
    "train_df.columns = column_names\n",
    "test_df.columns = column_names\n",
    "test_df.head()"
   ]
  },
  {
   "cell_type": "code",
   "execution_count": 26,
   "metadata": {},
   "outputs": [],
   "source": [
    "TRAIN_ANNOTATIONS = 'train_annotations.csv'\n",
    "TEST_ANNOTATIONS  = 'test_annotations.csv' \n",
    "CLASSES           = 'classes.csv'\n",
    "\n",
    "class_names = ['fox', 'badger']\n",
    "\n",
    "with open(CLASSES, 'w') as classes:\n",
    "    for i, cl in enumerate(class_names):\n",
    "        classes.write(f'{cl}, {i}\\n')\n",
    "\n",
    "\n",
    "train_df.to_csv(TRAIN_ANNOTATIONS, index=False, header=False)\n",
    "test_df.to_csv(TEST_ANNOTATIONS, index=False, header=False)"
   ]
  },
  {
   "cell_type": "markdown",
   "metadata": {},
   "source": [
    "### Download the Repo and Weights"
   ]
  },
  {
   "cell_type": "code",
   "execution_count": 27,
   "metadata": {},
   "outputs": [
    {
     "name": "stderr",
     "output_type": "stream",
     "text": [
      "fatal: destination path 'keras-retinanet' already exists and is not an empty directory.\n"
     ]
    }
   ],
   "source": [
    "!git clone https://github.com/fizyr/keras-retinanet"
   ]
  },
  {
   "cell_type": "code",
   "execution_count": 28,
   "metadata": {},
   "outputs": [
    {
     "data": {
      "text/plain": [
       "('resnet50_coco_best_v2.1.0.h5', <http.client.HTTPMessage at 0x3381f13508>)"
      ]
     },
     "execution_count": 28,
     "metadata": {},
     "output_type": "execute_result"
    }
   ],
   "source": [
    "BASE_MODEL_PATH = 'https://github.com/fizyr/keras-retinanet/releases/download/0.5.1/resnet50_coco_best_v2.1.0.h5'\n",
    "BASE_MODEL_NAME = 'resnet50_coco_best_v2.1.0.h5'\n",
    "\n",
    "urlretrieve(BASE_MODEL_PATH, BASE_MODEL_NAME)"
   ]
  },
  {
   "cell_type": "code",
   "execution_count": null,
   "metadata": {},
   "outputs": [],
   "source": [
    "%cd keras-retinanet\n",
    "!python setup.py install\n",
    "%cd .."
   ]
  },
  {
   "cell_type": "code",
   "execution_count": 1,
   "metadata": {},
   "outputs": [],
   "source": [
    "!mkdir snapshot"
   ]
  },
  {
   "cell_type": "code",
   "execution_count": 47,
   "metadata": {},
   "outputs": [],
   "source": [
    "BATCH_SIZE = 4                           # 4 images per batch\n",
    "STEPS      = str(int(ntrain/BATCH_SIZE)) # 236/4 = 59 steps, str to pass an ascii to command line\n",
    "EPOCHS     = str(10)                     # 10 rounds of the whole image dataset, str to pass an ascii to command line\n",
    "WEIGHTS    = BASE_MODEL_NAME             # same as <current_working_directory>/resnet50_coco_best_v2.1.0.h5\n",
    "SNAPSHOT   = 'snapshot'                  # same as <current_working_directory>/snapshot\n",
    "TRAIN_BASE = TRAIN_ANNOTATIONS           # same as <current_working_directory>/train_annotations.csv\n",
    "TEST_BASE  = TEST_ANNOTATIONS            # same as <current_working_directory>/test_annotations.csv\n",
    "#CLASSES =                              # same as <current_working_directory>/classes.csv\n",
    "BATCH_SIZE = str(BATCH_SIZE)             # normally is a number, but in command line is an ascii"
   ]
  },
  {
   "cell_type": "code",
   "execution_count": null,
   "metadata": {
    "scrolled": true
   },
   "outputs": [
    {
     "name": "stderr",
     "output_type": "stream",
     "text": [
      "\n",
      "KeyboardInterrupt\n",
      "\n",
      "\n",
      "KeyboardInterrupt\n",
      "\n"
     ]
    }
   ],
   "source": [
    "!retinanet-train \\\n",
    "--batch-size $BATCH_SIZE \\\n",
    "--steps $STEPS --epochs $EPOCHS \\\n",
    "--weights $WEIGHTS \\\n",
    "--snapshot-path $SNAPSHOT \\\n",
    "csv $TRAIN_BASE $CLASSES > train_log.txt   # see the log at <current_working_directory>/log.txt"
   ]
  },
  {
   "cell_type": "code",
   "execution_count": null,
   "metadata": {},
   "outputs": [],
   "source": [
    "NAME             = 'resnet50' + '_csv_' + EPOCHS + '.h5' # the last model name at <current_working_directory>/resnet50_csv_10.h5\n",
    "INPUT_MODEL_NAME =  os.path.join(SNAPSHOT, NAME)  # same as <current_working_directory>/snapshot/resnet10_csv_10.h5\n",
    "OUTPUT_MODEL_NAME= 'output.h5'                    # the output name <current_orking_directory>\n",
    "\n",
    "!retinanet-convert-model $INPUT_MODEL_PATH $OUTPUT_MODEL_NAME"
   ]
  }
 ],
 "metadata": {
  "kernelspec": {
   "display_name": "Python 3",
   "language": "python",
   "name": "python3"
  },
  "language_info": {
   "codemirror_mode": {
    "name": "ipython",
    "version": 3
   },
   "file_extension": ".py",
   "mimetype": "text/x-python",
   "name": "python",
   "nbconvert_exporter": "python",
   "pygments_lexer": "ipython3",
   "version": "3.7.6"
  }
 },
 "nbformat": 4,
 "nbformat_minor": 4
}
